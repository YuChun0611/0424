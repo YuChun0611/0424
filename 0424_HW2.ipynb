{
 "cells": [
  {
   "cell_type": "code",
   "execution_count": 3,
   "metadata": {},
   "outputs": [
    {
     "name": "stdout",
     "output_type": "stream",
     "text": [
      "猜幸運數字[按q可退出]:13\n",
      "繼續猜吧!\n",
      "猜幸運數字[按q可退出]:8\n",
      "恭喜你猜到了幸運數字是8~\n"
     ]
    }
   ],
   "source": [
    "while True:\n",
    "    number=input(\"猜幸運數字[按q可退出]:\")\n",
    "    if number==\"q\":\n",
    "        print(\"已退出程式\")\n",
    "        break\n",
    "    elif number==\"8\":\n",
    "        print(\"恭喜你猜到了幸運數字是8~\")\n",
    "        break\n",
    "    print(\"繼續猜吧!\")"
   ]
  },
  {
   "cell_type": "code",
   "execution_count": null,
   "metadata": {},
   "outputs": [],
   "source": []
  }
 ],
 "metadata": {
  "kernelspec": {
   "display_name": "Python 3",
   "language": "python",
   "name": "python3"
  },
  "language_info": {
   "codemirror_mode": {
    "name": "ipython",
    "version": 3
   },
   "file_extension": ".py",
   "mimetype": "text/x-python",
   "name": "python",
   "nbconvert_exporter": "python",
   "pygments_lexer": "ipython3",
   "version": "3.7.3"
  }
 },
 "nbformat": 4,
 "nbformat_minor": 2
}
