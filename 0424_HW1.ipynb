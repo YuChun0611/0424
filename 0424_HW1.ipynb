{
 "cells": [
  {
   "cell_type": "code",
   "execution_count": 5,
   "metadata": {
    "scrolled": true
   },
   "outputs": [
    {
     "name": "stdout",
     "output_type": "stream",
     "text": [
      "請輸入成績:sss\n",
      "未知\n"
     ]
    }
   ],
   "source": [
    "x=input(\"請輸入成績:\")\n",
    "if not(x.isdigit()) or int(x)<0 or int(x)>100:\n",
    "\tprint(\"未知\")\n",
    "elif int(x)<80 and int(x)>=60:\n",
    "\tprint(\"及格\")\n",
    "elif int(x)>=80 and int(x)<=100:\n",
    "\tprint(\"優等\")\n",
    "else:\n",
    "\tprint(\"不及格\")\n",
    "            \t\n",
    "#hw1"
   ]
  },
  {
   "cell_type": "code",
   "execution_count": null,
   "metadata": {},
   "outputs": [],
   "source": []
  }
 ],
 "metadata": {
  "kernelspec": {
   "display_name": "Python 3",
   "language": "python",
   "name": "python3"
  },
  "language_info": {
   "codemirror_mode": {
    "name": "ipython",
    "version": 3
   },
   "file_extension": ".py",
   "mimetype": "text/x-python",
   "name": "python",
   "nbconvert_exporter": "python",
   "pygments_lexer": "ipython3",
   "version": "3.7.3"
  }
 },
 "nbformat": 4,
 "nbformat_minor": 2
}
